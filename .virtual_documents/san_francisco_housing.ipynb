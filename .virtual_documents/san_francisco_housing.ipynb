


# Import the required libraries and dependencies
import pandas as pd
import hvplot.pandas
from pathlib import Path





# Using the read_csv function and Path module, create a DataFrame 
# by importing the sfo_neighborhoods_census_data.csv file from the Resources folder
sfo_data_df = pd.read_csv(Path("sfo_neighborhoods_census_data.csv"))

# Review the first and last five rows of the DataFrame

display(sfo_data_df.head())
display(sfo_data_df.tail())









# Create a numerical aggregation that groups the data by the year and then averages the results.

#housing_units_by_year = sfo_data_df.groupby('year').mean()

housing_units_by_year = sfo_data_df.groupby('year').agg({'sale_price_sqr_foot': 'mean', 'housing_units': 'mean', 'gross_rent': 'mean'})
housing_units_by_year.head()






# Create a visual aggregation explore the housing units by year
housing_units_by_year.hvplot.bar(x='year', y='housing_units', title='Housing Units in San Francisco from 2010-2016', xlabel='Year', ylabel='Housing Units', yformatter="%.0f", ylim=(365000, 385000))















# Create a numerical aggregation by grouping the data by year and averaging the results
prices_square_foot_by_year = sfo_data_df.groupby('year')

# Review the resulting DataFrame
prices_square_foot_by_year.head()








# Filter out the housing_units column, creating a new DataFrame 
# Keep only sale_price_sqr_foot and gross_rent averages per year
prices_square_foot_by_year =  sfo_data_df.groupby('year').agg({'sale_price_sqr_foot': 'mean', 'gross_rent': 'mean'})

# Review the DataFrame
prices_square_foot_by_year





# Plot prices_square_foot_by_year. 
# Inclued labels for the x- and y-axes, and a title.
prices_square_foot_by_year.hvplot.line(x='year', y=['sale_price_sqr_foot', 'gross_rent'], title='Sale Price Per Square Foot and Average Gross Rent in San Francisco 2010-2016', xlabel='Year', ylabel='Gross Rent/Sale Price Per Square Foot')





















# Group by year and neighborhood and then create a new dataframe of the mean values
prices_by_year_by_neighborhood = sfo_data_df.groupby(['year', 'neighborhood']).mean().reset_index()

# Review the DataFrame
prices_by_year_by_neighborhood





# Filter out the housing_units
prices_by_year_by_neighborhood = sfo_data_df.groupby(['year', 'neighborhood'])[['sale_price_sqr_foot', 'gross_rent']].mean().reset_index()

# Review the first and last five rows of the DataFrame
display(prices_by_year_by_neighborhood.head())
prices_by_year_by_neighborhood.tail()





# Use hvplot to create an interactive line plot of the average price per square foot
# The plot should have a dropdown selector for the neighborhood
prices_by_year_by_neighborhood.hvplot.line(x="year", y=["sale_price_sqr_foot", "gross_rent"], groupby="neighborhood", title='Sale Price Per Square Foot and Average Gross Rent 2010-2016 - By Neighborhood', xlabel='Year', ylabel='Gross Rent/Sale Price Per Square Foot')


















# Load neighborhoods coordinates data
neighborhood_locations_df = pd.read_csv(Path("neighborhoods_coordinates.csv"))

# Review the DataFrame
neighborhood_locations_df.head()





# Calculate the mean values for each neighborhood
all_neighborhood_info_df = sfo_data_df.groupby('neighborhood').mean().reset_index()

# Review the resulting DataFrame
all_neighborhood_info_df.head()





# Using the Pandas `concat` function, join the 
# neighborhood_locations_df and the all_neighborhood_info_df DataFrame
# The axis of the concatenation is "columns".
# The concat function will automatially combine columns with
# identical information, while keeping the additional columns.
all_neighborhoods_df = pd.concat(
    [neighborhood_locations_df, all_neighborhood_info_df], 
    axis="columns",
    sort=False
)

# Review the resulting DataFrame
display(all_neighborhoods_df.head())
display(all_neighborhoods_df.tail())



# Call the dropna function to remove any neighborhoods that do not have data

#all_neighborhoods_df = all_neighborhoods_df.reset_index().dropna()

# Rename the "index" column as "Neighborhood" for use in the Visualization
#all_neighborhoods_df = all_neighborhoods_df.rename(columns={"index": "Neighborhood"})

# Rename "Lat" and "Lon" columns

#all_neighborhoods_df = all_neighborhoods_df.rename (columns={'Lon': 'Longitude', 'Lat': 'Latitude'})

# Review the resulting DataFrame
display(all_neighborhoods_df.head())
display(all_neighborhoods_df.tail())


# Drop Duplicates
all_neighborhoods_df = all_neighborhoods_df.drop(columns='neighborhood')
all_neighborhoods_df





# Create a plot to analyze neighborhood info

points_plot = all_neighborhoods_df.hvplot.points(
    'Lon', 
    'Lat', 
    geo=True, 
    color='gross_rent',
    size = 'sale_price_sqr_foot',
    scale = .04,
    #size_max = 25,
    zoom = 11,
    alpha= 0.8,
    tiles='OSM',
    frame_width = 700,
    frame_height = 500,
    title = 'Neighborhood x Average Rent'
    )

points_plot



















