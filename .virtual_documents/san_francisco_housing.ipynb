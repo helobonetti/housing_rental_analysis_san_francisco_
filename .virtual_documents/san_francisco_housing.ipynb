


# Import the required libraries and dependencies
import pandas as pd
import hvplot.pandas
from pathlib import Path





# Using the read_csv function and Path module, create a DataFrame 
# by importing the sfo_neighborhoods_census_data.csv file from the Resources folder
sfo_data_df = # YOUR CODE HERE

# Review the first and last five rows of the DataFrame
# YOUR CODE HERE
# YOUR CODE HERE











# Create a numerical aggregation that groups the data by the year and then averages the results.
housing_units_by_year = # YOUR CODE HERE

# Review the DataFrame
# YOUR CODE HERE





# Create a visual aggregation explore the housing units by year
# YOUR CODE HERE

















# Create a numerical aggregation by grouping the data by year and averaging the results
prices_square_foot_by_year = # YOUR CODE HERE

# Review the resulting DataFrame
# YOUR CODE HERE








# Filter out the housing_units column, creating a new DataFrame 
# Keep only sale_price_sqr_foot and gross_rent averages per year
prices_square_foot_by_year = # YOUR CODE HERE

# Review the DataFrame
# YOUR CODE HERE





# Plot prices_square_foot_by_year. 
# Inclued labels for the x- and y-axes, and a title.
# YOUR CODE HERE




















# Group by year and neighborhood and then create a new dataframe of the mean values
prices_by_year_by_neighborhood = # YOUR CODE HERE

# Review the DataFrame
# YOUR CODE HERE





# Filter out the housing_units
prices_by_year_by_neighborhood = # YOUR CODE HERE

# Review the first and last five rows of the DataFrame
# YOUR CODE HERE
# YOUR CODE HERE





# Use hvplot to create an interactive line plot of the average price per square foot
# The plot should have a dropdown selector for the neighborhood
# YOUR CODE HERE

















# Load neighborhoods coordinates data
neighborhood_locations_df = # YOUR CODE HERE

# Review the DataFrame
# YOUR CODE HERE





# Calculate the mean values for each neighborhood
all_neighborhood_info_df = # YOUR CODE HERE

# Review the resulting DataFrame
# YOUR CODE HERE





# Using the Pandas `concat` function, join the 
# neighborhood_locations_df and the all_neighborhood_info_df DataFrame
# The axis of the concatenation is "columns".
# The concat function will automatially combine columns with
# identical information, while keeping the additional columns.
all_neighborhoods_df = pd.concat(
    [neighborhood_locations_df, all_neighborhood_info_df], 
    axis="columns",
    sort=False
)

# Review the resulting DataFrame
display(all_neighborhoods_df.head())
display(all_neighborhoods_df.tail())



# Call the dropna function to remove any neighborhoods that do not have data
all_neighborhoods_df = all_neighborhoods_df.reset_index().dropna()

# Rename the "index" column as "Neighborhood" for use in the Visualization
all_neighborhoods_df = all_neighborhoods_df.rename(columns={"index": "Neighborhood"})

# Review the resulting DataFrame
display(all_neighborhoods_df.head())
display(all_neighborhoods_df.tail())





# Create a plot to analyze neighborhood info
# YOUR CODE HERE


















